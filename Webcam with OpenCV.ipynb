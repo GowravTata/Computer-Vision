{
 "cells": [
  {
   "cell_type": "code",
   "execution_count": null,
   "metadata": {},
   "outputs": [],
   "source": [
    "import cv2\n",
    "import numpy as np"
   ]
  },
  {
   "cell_type": "code",
   "execution_count": null,
   "metadata": {},
   "outputs": [],
   "source": [
    "# here 0 stands for the index of the camera, while using a inbuilt webcam for laptop enter '0', for the secondary enter '1'\n",
    "\n",
    "cap = cv2.VideoCapture(0)\n",
    "\n",
    "#if there is image it will return frame\n",
    "\n",
    "while True:\n",
    "    \n",
    "    ret , frame = cap.read()       \n",
    "    \n",
    "    #to show  the frame , frame is the color  \n",
    "    \n",
    "    cv2.imshow('gray',frame)\n",
    "    \n",
    "    # for ending the loop\n",
    "    \n",
    "    # hitting letter 'q' turns-off the camera\n",
    "    \n",
    "     \n",
    "    if cv2.waitKey(3) & 0xFF == ord('q'):\n",
    "        \n",
    "        break\n",
    "        \n",
    "#to return the images\n",
    "\n",
    "cap.release()\n",
    "\n",
    "cv2.destroyAllWindows()        "
   ]
  },
  {
   "cell_type": "code",
   "execution_count": null,
   "metadata": {},
   "outputs": [],
   "source": [
    "cap = cv2.VideoCapture(0)\n",
    "\n",
    "while True:\n",
    "    ret , frame = cap.read()\n",
    "    \n",
    "    # Press 'TAB' after the cv2 to explore more options\n",
    "    \n",
    "    gray = cv2.cvtColor(frame , cv2.COLOR_BGR2LUV)\n",
    "        \n",
    "    cv2.imshow('gray',gray)\n",
    "    \n",
    "    if cv2.waitKey(3) & 0xFF == ord('q'):\n",
    "        \n",
    "        break\n",
    "\n",
    "cap.release()\n",
    "\n",
    "cv2.destroyAllWindows()        "
   ]
  },
  {
   "cell_type": "code",
   "execution_count": null,
   "metadata": {},
   "outputs": [],
   "source": [
    "cap = cv2.VideoCapture(0)\n",
    "\n",
    "#to output the file\n",
    "\n",
    "# 'XVID' is converting it into a video\n",
    "\n",
    "fourcc = cv2.VideoWriter_fourcc(*'XVID')\n",
    "\n",
    "# (640,480) are the pixels of the video to be recorded\n",
    "\n",
    "out = cv2.VideoWriter('output.avi', fourcc , 20.0, (640,480))\n",
    "\n",
    "\n",
    "while True:\n",
    "    \n",
    "    ret , frame = cap.read()\n",
    "    \n",
    "    out.write(frame)  \n",
    "\n",
    "    cv2.imshow('frame',frame)\n",
    "    \n",
    "    if cv2.waitKey(3) & 0xFF == ord('q'):\n",
    "            \n",
    "        break\n",
    "\n",
    "cap.release()\n",
    "\n",
    "out.release()\n",
    "\n",
    "cv2.destroyAllWindows()        "
   ]
  }
 ],
 "metadata": {
  "kernelspec": {
   "display_name": "Python 3",
   "language": "python",
   "name": "python3"
  },
  "language_info": {
   "codemirror_mode": {
    "name": "ipython",
    "version": 3
   },
   "file_extension": ".py",
   "mimetype": "text/x-python",
   "name": "python",
   "nbconvert_exporter": "python",
   "pygments_lexer": "ipython3",
   "version": "3.7.6"
  }
 },
 "nbformat": 4,
 "nbformat_minor": 4
}
