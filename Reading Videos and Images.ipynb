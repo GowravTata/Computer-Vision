{
 "cells": [
  {
   "cell_type": "code",
   "execution_count": 1,
   "metadata": {},
   "outputs": [],
   "source": [
    "import cv2 as cv"
   ]
  },
  {
   "cell_type": "code",
   "execution_count": 2,
   "metadata": {},
   "outputs": [],
   "source": [
    "import os\n",
    "os.chdir(\"E:/\")"
   ]
  },
  {
   "cell_type": "code",
   "execution_count": 3,
   "metadata": {},
   "outputs": [
    {
     "data": {
      "text/plain": [
       "27"
      ]
     },
     "execution_count": 3,
     "metadata": {},
     "output_type": "execute_result"
    }
   ],
   "source": [
    "img = cv.imread('city.jpg')\n",
    "\n",
    "# display the image, with a new window\n",
    "# City is the name of the window ,and actual matrix or pixels to be added\n",
    "cv.imshow('City',img)\n",
    "\n",
    "cv.waitKey(0)"
   ]
  },
  {
   "cell_type": "code",
   "execution_count": null,
   "metadata": {},
   "outputs": [],
   "source": [
    "img = cv.imread('ca.jpg')\n",
    "\n",
    "cv.imshow('Ca',img)\n",
    "\n",
    "cv.waitKey(0)\n",
    "\n",
    "# when you run this section the a portion of image appears this is due to the higher resolution of the picture which one's PC can display it"
   ]
  },
  {
   "cell_type": "code",
   "execution_count": null,
   "metadata": {},
   "outputs": [],
   "source": [
    "# OpenCV doesn't have the inbuilt function to compress the image to fit to your screen"
   ]
  },
  {
   "cell_type": "markdown",
   "metadata": {},
   "source": [
    "# Reading Videos"
   ]
  },
  {
   "cell_type": "code",
   "execution_count": 3,
   "metadata": {},
   "outputs": [],
   "source": [
    "# set a variable to capture everything \n",
    "# Here 0 implies as the primary webcam present or connected while passing 1,2,3 takes the input of the other cameras present.\n",
    "#capture = cv.VideoCapture(0)\n",
    "capture = cv.VideoCapture('The.Decoy.Bride.2011.720p.BluRay.x264-[YTS.AM].mp4')\n",
    "while True:\n",
    "    isTrue,frame = capture.read() # capture.read reads the video frame be radio\n",
    "    # To display individual frame\n",
    "    cv.imshow('Video',frame)\n",
    "    # To stop the video being indefinite , letter 'd' is hit to destroy\n",
    "    if cv.waitKey(20) & 0xFF==ord('d'):\n",
    "        break\n",
    "cv.waitKey\n",
    "# release the instance\n",
    "capture.release()\n",
    "cv.destroyAllWindows()"
   ]
  },
  {
   "cell_type": "code",
   "execution_count": null,
   "metadata": {},
   "outputs": [],
   "source": []
  }
 ],
 "metadata": {
  "kernelspec": {
   "display_name": "Python 3",
   "language": "python",
   "name": "python3"
  },
  "language_info": {
   "codemirror_mode": {
    "name": "ipython",
    "version": 3
   },
   "file_extension": ".py",
   "mimetype": "text/x-python",
   "name": "python",
   "nbconvert_exporter": "python",
   "pygments_lexer": "ipython3",
   "version": "3.8.5"
  }
 },
 "nbformat": 4,
 "nbformat_minor": 4
}
